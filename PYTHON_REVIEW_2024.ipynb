{
  "nbformat": 4,
  "nbformat_minor": 0,
  "metadata": {
    "colab": {
      "private_outputs": true,
      "provenance": [],
      "toc_visible": true,
      "authorship_tag": "ABX9TyPoh5pe913+T6OT4SVf9X95",
      "include_colab_link": true
    },
    "kernelspec": {
      "name": "python3",
      "display_name": "Python 3"
    },
    "language_info": {
      "name": "python"
    }
  },
  "cells": [
    {
      "cell_type": "markdown",
      "metadata": {
        "id": "view-in-github",
        "colab_type": "text"
      },
      "source": [
        "<a href=\"https://colab.research.google.com/github/davidnho/PythonReview/blob/master/PYTHON_REVIEW_2024.ipynb\" target=\"_parent\"><img src=\"https://colab.research.google.com/assets/colab-badge.svg\" alt=\"Open In Colab\"/></a>"
      ]
    },
    {
      "cell_type": "markdown",
      "source": [
        "# PYTHON REVIEW 2024"
      ],
      "metadata": {
        "id": "9d9BRkoexPyq"
      }
    },
    {
      "cell_type": "markdown",
      "source": [
        "## LINKS"
      ],
      "metadata": {
        "id": "f-MLlNLRqURR"
      }
    },
    {
      "cell_type": "markdown",
      "source": [
        "[Python for Beginners - Learn Python in 1 Hour](https://youtu.be/kqtD5dpn9C8) </br>\n",
        "[Python Tutorial - Python Full Course for Beginners](https://youtu.be/_uQrJ0TkZlc) </br>\n",
        "[Python Quick Guide](https://colab.research.google.com/drive/1UdMtY5tf6ohNMO2VhuFEL2M8wBBne5FW?usp=sharing) </br>"
      ],
      "metadata": {
        "id": "DrtHk-lYqXiK"
      }
    },
    {
      "cell_type": "markdown",
      "source": [
        "## BASIC\n"
      ],
      "metadata": {
        "id": "uOyB-9FxFaXi"
      }
    },
    {
      "cell_type": "markdown",
      "source": [
        "### HELLO WORLD\n",
        "\n",
        "\n",
        "\n"
      ],
      "metadata": {
        "id": "sViVQNbdxVye"
      }
    },
    {
      "cell_type": "code",
      "source": [
        "# HELLO WORLD\n",
        "# Python for Beginners - Learn Python in 1 Hour\n",
        "print(\"Hello world\")\n"
      ],
      "metadata": {
        "id": "3yz7AmuhrCGq"
      },
      "execution_count": null,
      "outputs": []
    },
    {
      "cell_type": "code",
      "source": [
        "# VARIABLES\n",
        "age = 20\n",
        "price = 19.95\n",
        "first_name = 'Noel'   # firstname vs first_name - best practice : separate with underscore\n",
        "is_online = False # boolean , case-sensiitive\n",
        "\n",
        "print(age)\n",
        "print(price)\n",
        "print(first_name)\n",
        "print(is_online)"
      ],
      "metadata": {
        "id": "LX6QqmacrE2S"
      },
      "execution_count": null,
      "outputs": []
    },
    {
      "cell_type": "markdown",
      "source": [
        "### DATA TYPES"
      ],
      "metadata": {
        "id": "OQQ9rmr6x84n"
      }
    },
    {
      "cell_type": "code",
      "source": [
        "# NUMERICAL TYPES\n",
        "#\n",
        "\n",
        "# Integer\n",
        "a = 10\n",
        "print(a)\n",
        "\n",
        "\n",
        "# Complex data type\n",
        "b = 10 + 7j\n",
        "print(b)\n",
        "\n",
        "# Float\n",
        "c = 10.67\n",
        "print(c)\n",
        "\n",
        "# Conversion\n",
        "d = float(a)\n",
        "print(d)"
      ],
      "metadata": {
        "id": "nZV3ysLTyGig"
      },
      "execution_count": null,
      "outputs": []
    },
    {
      "cell_type": "markdown",
      "source": [
        "### INPUT"
      ],
      "metadata": {
        "id": "kZiwwf1R6BuR"
      }
    },
    {
      "cell_type": "code",
      "source": [
        "# INPUT\n",
        "name = input(\"What is your name? \")\n",
        "print(\"Hello \" + name)"
      ],
      "metadata": {
        "id": "qO9vHy-FrIFq"
      },
      "execution_count": null,
      "outputs": []
    },
    {
      "cell_type": "markdown",
      "source": [
        "### TYPE CONVERSION"
      ],
      "metadata": {
        "id": "trGVVeVw6Fle"
      }
    },
    {
      "cell_type": "code",
      "source": [
        "# TYPE CONVERSION\n",
        "birth_year = input(\"What is your birth year? \\n\")\n",
        "age = 2023 - int(birth_year)\n",
        "print(age)\n",
        "\n",
        "\n",
        "# exerice : simple calc\n",
        "first_number = input(\"First number: \")\n",
        "second_number = input(\"Second number: \")\n",
        "my_sum = float(first_number) + float(second_number)\n",
        "print(\"Sum: \"  + str(my_sum))"
      ],
      "metadata": {
        "id": "ccRevoFZrKOK"
      },
      "execution_count": null,
      "outputs": []
    },
    {
      "cell_type": "markdown",
      "source": [
        "### OBJECT AND METHODS"
      ],
      "metadata": {
        "id": "MbUYNCrV6IL8"
      }
    },
    {
      "cell_type": "code",
      "source": [
        "# OBJECTS AND METHODS\n",
        "course = 'Python in one hour' # object is created\n",
        "course_in_uppercase = course.upper()\n",
        "print(course_in_uppercase)\n",
        "print(course.find('y'))\n",
        "print(course.replace('one','1'))\n",
        "print('Python' in course)\n"
      ],
      "metadata": {
        "id": "3sAMjJLjrNrD"
      },
      "execution_count": null,
      "outputs": []
    },
    {
      "cell_type": "markdown",
      "source": [
        "### ARITHMETIC"
      ],
      "metadata": {
        "id": "yMb5L7kMEodi"
      }
    },
    {
      "cell_type": "code",
      "source": [
        "# ARITHMETIC\n",
        "print(10 / 3)\n",
        "print(10 // 3)\n",
        "# augmented assignment operator\n",
        "x = 10\n",
        "x += 3 # similar to x = x + 3\n",
        "print(x)\n"
      ],
      "metadata": {
        "id": "AxhwBz9vrPgX"
      },
      "execution_count": null,
      "outputs": []
    },
    {
      "cell_type": "markdown",
      "source": [
        "### PRECENCE"
      ],
      "metadata": {
        "id": "QHlPKxGxEr7c"
      }
    },
    {
      "cell_type": "code",
      "source": [
        "# PRECEDENCE\n",
        "print(10+3*2)\n",
        "# can be overriden using pharentheses"
      ],
      "metadata": {
        "id": "q8k6wTTWrSJc"
      },
      "execution_count": null,
      "outputs": []
    },
    {
      "cell_type": "markdown",
      "source": [
        "### COMPARISON"
      ],
      "metadata": {
        "id": "4_ZLSMkuEuoW"
      }
    },
    {
      "cell_type": "code",
      "source": [
        "# COMPARISON\n",
        "print(3 == 2)\n",
        "print(3 > 2)"
      ],
      "metadata": {
        "id": "XiQys4LPrUR6"
      },
      "execution_count": null,
      "outputs": []
    },
    {
      "cell_type": "markdown",
      "source": [
        "### LOGICAL OPERATORS"
      ],
      "metadata": {
        "id": "Toc0kcwrExal"
      }
    },
    {
      "cell_type": "code",
      "source": [
        "# LOGICAL OPERATORS (and,or,not)\n",
        "print(3 > 2 and 1 < 4)\n",
        "print(3 < 2 or 1 < 4)\n",
        "print(not 3 > 2)\n",
        "# True\n",
        "# True\n",
        "# False\n"
      ],
      "metadata": {
        "id": "t4PxDCKgrWLc"
      },
      "execution_count": null,
      "outputs": []
    },
    {
      "cell_type": "markdown",
      "source": [
        "### IF STATEMENT"
      ],
      "metadata": {
        "id": "_OtwdfVGE0B2"
      }
    },
    {
      "cell_type": "code",
      "source": [
        "# IF STATEMENTS\n",
        "temp = 4\n",
        "\n",
        "if temp > 30:\n",
        "    print(\"It's hot today\")\n",
        "    print(\"Drink a lot of water\")\n",
        "elif temp > 20:\n",
        "    print(\"It's a nice day!\")\n",
        "elif temp > 10:\n",
        "    print(\"It's a bit cold\")\n",
        "else:\n",
        "    print (\"It's cold\")\n",
        "print(\"Done\")\n",
        "\n",
        "# review the exerice"
      ],
      "metadata": {
        "id": "UT87BLGFrZV8"
      },
      "execution_count": null,
      "outputs": []
    },
    {
      "cell_type": "markdown",
      "source": [
        "### LOOPS"
      ],
      "metadata": {
        "id": "VMssFmD2E2gd"
      }
    },
    {
      "cell_type": "code",
      "source": [
        "# LOOPS\n",
        "i = 1\n",
        "while i <=1_000: # the underscore makes the number more readable\n",
        "    print(i)\n",
        "    i = i + 1\n",
        "\n",
        "\n",
        "j = 1\n",
        "while j <=10 : # the underscore makes the number more readable\n",
        "    print(j * '*')\n",
        "    j = j+ 1"
      ],
      "metadata": {
        "id": "HKVMBfDFrbq2"
      },
      "execution_count": null,
      "outputs": []
    },
    {
      "cell_type": "markdown",
      "source": [
        "### LISTS"
      ],
      "metadata": {
        "id": "1LaKn87qE4uN"
      }
    },
    {
      "cell_type": "code",
      "source": [
        "# LISTS\n",
        "\n",
        "names = ['Noel','Jake','Eric','Josh']\n",
        "print(names)\n",
        "print(names[0])\n",
        "print(names[-1])\n",
        "names[2] = 'Erich'\n",
        "print(names)\n",
        "print(names[0:3]) #first 3  names\n",
        "\n",
        "\n",
        "# LIST METHODS\n",
        "numbers = [1,2,3,4,5,6]\n",
        "numbers.append(7)\n",
        "print(numbers)\n",
        "numbers.insert(0,-1)\n",
        "print(numbers) # insert number at the beggining\n",
        "numbers.remove(3)\n",
        "print(numbers)\n",
        "numbers.clear()\n",
        "print(numbers)\n",
        "print(10 in numbers)\n",
        "print(len(numbers))"
      ],
      "metadata": {
        "id": "pvMIprp-rdPL"
      },
      "execution_count": null,
      "outputs": []
    },
    {
      "cell_type": "markdown",
      "source": [
        "### FOR LOOPS"
      ],
      "metadata": {
        "id": "n9juBSkzFDwN"
      }
    },
    {
      "cell_type": "code",
      "source": [
        "# FOR LOOPS\n",
        "\n",
        "# for loop\n",
        "numbers = [1,2,3,4,5]\n",
        "for item in numbers:\n",
        "    print(item)\n",
        "\n",
        "# while loop\n",
        "i = 0\n",
        "while i < len(numbers):\n",
        "    print(numbers[i])\n",
        "    i = i + 1\n"
      ],
      "metadata": {
        "id": "QOIJfkCXrhvF"
      },
      "execution_count": null,
      "outputs": []
    },
    {
      "cell_type": "markdown",
      "source": [
        "### RANGES"
      ],
      "metadata": {
        "id": "V2gPxFSHFGQV"
      }
    },
    {
      "cell_type": "code",
      "source": [
        "# RANGE\n",
        "numbers = range(5)\n",
        "print(numbers)\n",
        "\n",
        "for number in numbers:\n",
        "    print(number)\n",
        "\n",
        "numbers = range(5,10)\n",
        "print(numbers)\n",
        "\n",
        "for number in numbers:\n",
        "    print(number)\n",
        "\n",
        "numbers = range(5,10,2) #using step (2)\n",
        "print(numbers)\n",
        "\n",
        "for number in numbers:\n",
        "    print(number)\n",
        "\n",
        "for number in range(5):  #shorter method\n",
        "    print(number)\n"
      ],
      "metadata": {
        "id": "eGoL0opIrkD9"
      },
      "execution_count": null,
      "outputs": []
    },
    {
      "cell_type": "markdown",
      "source": [
        "### TUPLES"
      ],
      "metadata": {
        "id": "pCRyf2_kFJKq"
      }
    },
    {
      "cell_type": "code",
      "source": [
        "# TUPLES (immuutable objects)\n",
        "numbers = (1,2,3)\n",
        "numbers[0] = 3 #'tuple' object does not support item assignment"
      ],
      "metadata": {
        "collapsed": true,
        "id": "8CLj27b2rmGt"
      },
      "execution_count": null,
      "outputs": []
    },
    {
      "cell_type": "markdown",
      "source": [
        "## ADVANCED"
      ],
      "metadata": {
        "id": "ooG6dE0Crnrs"
      }
    },
    {
      "cell_type": "markdown",
      "source": [
        "### FUNCTIONS"
      ],
      "metadata": {
        "id": "6tUjV03iF7WI"
      }
    },
    {
      "cell_type": "code",
      "source": [
        "# define the function\n",
        "def printme(str):\n",
        "    \"this prints the passed string\"\n",
        "    print (str)\n",
        "\n",
        "# call the function\n",
        "printme(\"Hello Noel\")\n",
        "printme(\"Hello world\")"
      ],
      "metadata": {
        "id": "iNXzjTKgF91g"
      },
      "execution_count": null,
      "outputs": []
    },
    {
      "cell_type": "markdown",
      "source": [],
      "metadata": {
        "id": "5Y2avkwsKsAZ"
      }
    },
    {
      "cell_type": "markdown",
      "source": [
        "### THE ANONYMOUS FUNCTIONS (LAMBDA)"
      ],
      "metadata": {
        "id": "LOEYFpWzGUfd"
      }
    },
    {
      "cell_type": "code",
      "source": [
        "# These functions are called anonymous because they are not declared in the standard manner by using the def keyword.\n",
        "# Function definition is here\n",
        "sum = lambda arg1, arg2: arg1 + arg2;\n",
        "\n",
        "# Now you can call sum as a function\n",
        "print ( \"Value of total : \", sum( 10, 20 ) )\n",
        "print ( \"Value of total : \", sum( 20, 20 ) )"
      ],
      "metadata": {
        "id": "jxaGtO6xGYfy"
      },
      "execution_count": null,
      "outputs": []
    },
    {
      "cell_type": "code",
      "source": [],
      "metadata": {
        "id": "--XNvqUkJOnv"
      },
      "execution_count": null,
      "outputs": []
    },
    {
      "cell_type": "markdown",
      "source": [],
      "metadata": {
        "id": "YOTDZ586O-2z"
      }
    },
    {
      "cell_type": "markdown",
      "metadata": {
        "id": "IdB9WBWtalkS"
      },
      "source": [
        "### EXCEPTIONS"
      ]
    },
    {
      "cell_type": "code",
      "metadata": {
        "id": "-xk70sgJmicf"
      },
      "source": [
        "#!/usr/bin/python3\n",
        "\n",
        "try:\n",
        "   fh = open(\"testfile\", \"w\")\n",
        "   fh.write(\"This is my test file for exception handling!!\")\n",
        "except IOError:\n",
        "   print (\"Error: can\\'t find file or read data\")\n",
        "else:\n",
        "   print (\"Written content in the file successfully\")\n",
        "   fh.close()"
      ],
      "execution_count": null,
      "outputs": []
    },
    {
      "cell_type": "code",
      "metadata": {
        "id": "W0l12HApmeZH"
      },
      "source": [
        "#!/usr/bin/python3\n",
        "\n",
        "try:\n",
        "   fh = open(\"testfile\", \"r\")\n",
        "   fh.write(\"This is my test file for exception handling!!\")\n",
        "except IOError:\n",
        "   print (\"Error: can\\'t find file or read data\")\n",
        "else:\n",
        "   print (\"Written content in the file successfully\")"
      ],
      "execution_count": null,
      "outputs": []
    },
    {
      "cell_type": "code",
      "metadata": {
        "id": "z-CE7Us-rXER"
      },
      "source": [
        "class Networkerror(RuntimeError):\n",
        "   def __init__(self, arg):\n",
        "      self.args = arg\n",
        "\n",
        "try:\n",
        "   raise Networkerror(\"Bad hostname\")\n",
        "except Networkerror,e:\n",
        "   print (e.args)"
      ],
      "execution_count": null,
      "outputs": []
    },
    {
      "cell_type": "markdown",
      "metadata": {
        "id": "201o-uqsSc8J"
      },
      "source": [
        "### MODULES"
      ]
    },
    {
      "cell_type": "markdown",
      "metadata": {
        "id": "p6LUE6vCRtEC"
      },
      "source": [
        "#### The import Statement"
      ]
    },
    {
      "cell_type": "code",
      "metadata": {
        "id": "kGlpX05yRtED"
      },
      "source": [
        "# **** will only run outside a notebook ***\n",
        "# 1. create a file named hell0_module.py with the following content:\n",
        "def greeting(name):\n",
        "  print(\"Hello, \" + name)\n",
        "# 2. On the same folder, create a file with the ff content:\n",
        "\n",
        "import hello_module\n",
        "\n",
        "hello_module.greeting(\"Noel David\")\n"
      ],
      "execution_count": null,
      "outputs": []
    },
    {
      "cell_type": "markdown",
      "metadata": {
        "id": "3FldD5xlRtEJ"
      },
      "source": [
        "#### The from...import Statement"
      ]
    },
    {
      "cell_type": "code",
      "metadata": {
        "id": "9vhsskBpRtEL"
      },
      "source": [
        "# GET MORE EXAMPLES"
      ],
      "execution_count": null,
      "outputs": []
    },
    {
      "cell_type": "markdown",
      "metadata": {
        "id": "G6Ol4L0gRtEN"
      },
      "source": [
        "#### Namespace and Scoping"
      ]
    },
    {
      "cell_type": "code",
      "metadata": {
        "id": "xlwKmVZqRtEO"
      },
      "source": [
        "Money = 2000\n",
        "def AddMoney():\n",
        "   # Uncomment the following line to fix the code:\n",
        "   global Money # withoout this, you will the UnboundLocalError\n",
        "   Money = Money + 1\n",
        "\n",
        "print (Money)\n",
        "AddMoney()\n",
        "print (Money)"
      ],
      "execution_count": null,
      "outputs": []
    },
    {
      "cell_type": "code",
      "metadata": {
        "id": "4Rbc01aHRtET"
      },
      "source": [
        "### The dir() function"
      ],
      "execution_count": null,
      "outputs": []
    },
    {
      "cell_type": "code",
      "metadata": {
        "id": "IGgHVY3sRtEW"
      },
      "source": [
        "# Import built-in module math\n",
        "import math\n",
        "\n",
        "content = dir(math)\n",
        "print (content)"
      ],
      "execution_count": null,
      "outputs": []
    },
    {
      "cell_type": "markdown",
      "metadata": {
        "id": "qmArBPFhRtEZ"
      },
      "source": [
        "#### The globals() and locals() Functions"
      ]
    },
    {
      "cell_type": "code",
      "metadata": {
        "id": "rd3LHcekRtEa"
      },
      "source": [
        "# READ MORE ...."
      ],
      "execution_count": null,
      "outputs": []
    },
    {
      "cell_type": "markdown",
      "metadata": {
        "id": "oWznGCKnRtEj"
      },
      "source": [
        "#### The reload() Function"
      ]
    },
    {
      "cell_type": "code",
      "metadata": {
        "id": "t0v-ytTsRtEk"
      },
      "source": [
        "reload (support)\n",
        "support.print_func(\"Noel\")\n",
        "support.print_func(\"Yen\")"
      ],
      "execution_count": null,
      "outputs": []
    },
    {
      "cell_type": "markdown",
      "metadata": {
        "id": "kz34YaS9RtEp"
      },
      "source": [
        "#### Packages in Python"
      ]
    },
    {
      "cell_type": "code",
      "metadata": {
        "id": "QvKiFHhkRtEq"
      },
      "source": [
        "# READ MORE ...."
      ],
      "execution_count": null,
      "outputs": []
    },
    {
      "cell_type": "markdown",
      "metadata": {
        "id": "SYktaHSDKsaj"
      },
      "source": [
        "### DATE AND TIME"
      ]
    },
    {
      "cell_type": "markdown",
      "metadata": {
        "id": "7ElHecZhKRUV"
      },
      "source": [
        "#### Tick"
      ]
    },
    {
      "cell_type": "code",
      "metadata": {
        "id": "7HEtivUAKRUW"
      },
      "source": [
        "import time\n",
        "tick = time.time()\n",
        "print(tick)"
      ],
      "execution_count": null,
      "outputs": []
    },
    {
      "cell_type": "markdown",
      "metadata": {
        "id": "fDM5wlzLKRUg"
      },
      "source": [
        "#### Getting current time"
      ]
    },
    {
      "cell_type": "code",
      "metadata": {
        "id": "yeBuh8E5KRUh"
      },
      "source": [
        "\n",
        "localtime = time.localtime(time.time())\n",
        "print (localtime)\n",
        "\n"
      ],
      "execution_count": null,
      "outputs": []
    },
    {
      "cell_type": "markdown",
      "metadata": {
        "id": "pg-SOs7GKRUm"
      },
      "source": [
        "#### Getting formatted time"
      ]
    },
    {
      "cell_type": "code",
      "metadata": {
        "id": "vzxLfZ4tKRUm"
      },
      "source": [
        "import time;\n",
        "localtime = time.asctime(time.localtime(time.time()))\n",
        "print (localtime)"
      ],
      "execution_count": null,
      "outputs": []
    },
    {
      "cell_type": "markdown",
      "metadata": {
        "id": "_VRAKU82KRUp"
      },
      "source": [
        "#### Getting calendar for a month"
      ]
    },
    {
      "cell_type": "code",
      "metadata": {
        "id": "NIcV3DDaKRUr"
      },
      "source": [
        "import calendar\n",
        "\n",
        "cal = calendar.month(2023, 1)\n",
        "print (\"Here is the calendar:\")\n",
        "print ( cal )"
      ],
      "execution_count": null,
      "outputs": []
    },
    {
      "cell_type": "markdown",
      "metadata": {
        "id": "HerEdNDOKRUu"
      },
      "source": [
        "#### The time Module"
      ]
    },
    {
      "cell_type": "code",
      "metadata": {
        "id": "-pyPovaDKRUu"
      },
      "source": [
        "# READ MORE ABOUT THIS"
      ],
      "execution_count": null,
      "outputs": []
    },
    {
      "cell_type": "code",
      "metadata": {
        "id": "GYqpIFyhKRUx"
      },
      "source": [
        "print (time.clock())\n"
      ],
      "execution_count": null,
      "outputs": []
    },
    {
      "cell_type": "markdown",
      "metadata": {
        "id": "0fUoUAEIKRU0"
      },
      "source": [
        "#### The calendar Module"
      ]
    },
    {
      "cell_type": "markdown",
      "source": [],
      "metadata": {
        "id": "oDYNLOC4OXNL"
      }
    },
    {
      "cell_type": "code",
      "metadata": {
        "id": "fDziPxxkKRU3"
      },
      "source": [
        "print ( calendar.firstweekday())"
      ],
      "execution_count": null,
      "outputs": []
    },
    {
      "cell_type": "markdown",
      "metadata": {
        "id": "ScNjSK8RYZD4"
      },
      "source": [
        "### LISTS"
      ]
    },
    {
      "cell_type": "markdown",
      "metadata": {
        "id": "j2Dc-01-YZD6"
      },
      "source": [
        "#### List Examples"
      ]
    },
    {
      "cell_type": "code",
      "metadata": {
        "id": "A5HOcSieYZD7"
      },
      "source": [
        "list1 = ['physics', 'chemistry', 1997, 2000];\n",
        "list2 = [1, 2, 3, 4, 5 ];\n",
        "list3 = [\"a\", \"b\", \"c\", \"d\"];\n",
        "\n",
        "print(list2)"
      ],
      "execution_count": null,
      "outputs": []
    },
    {
      "cell_type": "markdown",
      "metadata": {
        "id": "GG82_vApYZD_"
      },
      "source": [
        "#### Accessing Values in Lists"
      ]
    },
    {
      "cell_type": "code",
      "metadata": {
        "id": "6xRI8x23YZD_"
      },
      "source": [
        "list1 = ['physics', 'chemistry', 1997, 2000]\n",
        "list2 = [1, 2, 3, 4, 5, 6, 7 ]\n",
        "print (\"list1[0]: \", list1[0])\n",
        "\n",
        "print (\"list2[1:5]: \", list2[1:5])"
      ],
      "execution_count": null,
      "outputs": []
    },
    {
      "cell_type": "markdown",
      "metadata": {
        "id": "RYeYfIjJYZEF"
      },
      "source": [
        "#### Updating Lists"
      ]
    },
    {
      "cell_type": "code",
      "metadata": {
        "id": "e54gr2RRYZEF"
      },
      "source": [
        "list = ['physics', 'chemistry', 1997, 2000]\n",
        "print (\"Value available at index 2 : \")\n",
        "print (list[2])\n",
        "list[2] = 2001\n",
        "print (\"New value available at index 2 : \")\n",
        "print (list[2])"
      ],
      "execution_count": null,
      "outputs": []
    },
    {
      "cell_type": "markdown",
      "metadata": {
        "id": "4_Yq2AF0YZEI"
      },
      "source": [
        "#### Delete List Elements"
      ]
    },
    {
      "cell_type": "code",
      "metadata": {
        "id": "6c1tqjJ9YZEK"
      },
      "source": [
        "list1 = ['physics','chemistry',1997,2000]\n",
        "print (list1)\n",
        "del list1[2]\n",
        "print (list1)"
      ],
      "execution_count": null,
      "outputs": []
    },
    {
      "cell_type": "markdown",
      "metadata": {
        "id": "lJWOiB4mYZEN"
      },
      "source": [
        "#### Basic List Operations"
      ]
    },
    {
      "cell_type": "code",
      "metadata": {
        "id": "ZSNcuK2AYZEO"
      },
      "source": [
        "print (len ([1,2,3]))\n",
        "print ( [1,2,3] + [3,4,5] )\n",
        "print ( ['Boom '] * 3 )\n",
        "print ( 3 in [1,2,3 ])\n",
        "for x in [1,2,3]: print ( x )"
      ],
      "execution_count": null,
      "outputs": []
    },
    {
      "cell_type": "markdown",
      "metadata": {
        "id": "EwiPMDSSYZEW"
      },
      "source": [
        "#### Indexing, Slicing, and Matrixes"
      ]
    },
    {
      "cell_type": "code",
      "metadata": {
        "id": "0xR_UATNYZEY"
      },
      "source": [
        "L = ['spam','Spam','SPAM']\n",
        "\n",
        "print(L[0:])\n",
        "print ( L[2] )\n",
        "print ( L[-2] )\n",
        "print ( L[1:])"
      ],
      "execution_count": null,
      "outputs": []
    },
    {
      "cell_type": "code",
      "metadata": {
        "id": "cWYwIGJJxL3f"
      },
      "source": [
        "L = [1,2,3,4,5,6,7]\n",
        "\n",
        "print([L])\n",
        "print(L[0:-1])\n",
        "print(L[0:-1]) #prints all except the last one\n",
        "print(L[0:-2]) #prints all except the last two\n",
        "print(L[1:-2]) #prints starting from the 2nd item excluding the last 2"
      ],
      "execution_count": null,
      "outputs": []
    },
    {
      "cell_type": "markdown",
      "metadata": {
        "id": "GWSA7WjYYZEc"
      },
      "source": [
        "#### Built-in List Functions & Methods"
      ]
    },
    {
      "cell_type": "code",
      "metadata": {
        "id": "dI8SnefDYZEd"
      },
      "source": [
        "# # cmp\n",
        "# list1, list2 = [123, 'xyz'], [456, 'abc']\n",
        "# print ( cmp(list1, list2))\n",
        "# print ( cmp(list2, list1))\n",
        "# list3 = list2 + [786];\n",
        "# print ( cmp(list2, list3) )\n",
        "# # please review cmp\n",
        "\n",
        "# len\n",
        "list1, list2 = [123,'xyz','zara'],[456,'abc']\n",
        "print (len(list1))\n",
        "print (len(list2))\n",
        "\n",
        "# max\n",
        "list1, list2 = [123, 'xyz', 'zara', 'abc'], [456, 700, 200]\n",
        "# print ( \"Max value element : \", max(list1) ) # - this has error\n",
        "print ( \"Max value element : \", max(list2) )\n",
        "\n",
        "# # list  - converts a tuple to list - with eror , pls review\n",
        "# aTuple = (123, 'xyz', 'zara', 'abc')\n",
        "# str = list(aTuple)\n",
        "# print (\"List elements : \", str)\n",
        "\n",
        "# append\n",
        "aList = [123, 'xyz', 'zara', 'abc'];\n",
        "aList.append( 2009 );\n",
        "print (\"Updated List : \", aList)\n",
        "\n",
        "# count\n",
        "aList = [123, 'xyz', 'zara', 'abc', 123];\n",
        "print (\"Count for 123 : \", aList.count(123))\n",
        "print (\"Count for zara : \", aList.count('zara'))\n",
        "\n",
        "# reverse\n",
        "aList = [123, 'xyz', 'zara', 'abc', 'xyz'];\n",
        "aList.reverse();\n",
        "print (\"List : \", aList)\n",
        "\n",
        "# MORE ...."
      ],
      "execution_count": null,
      "outputs": []
    },
    {
      "cell_type": "markdown",
      "metadata": {
        "id": "oGILVVPd2gE3"
      },
      "source": [
        "### DICTIONARIES"
      ]
    },
    {
      "cell_type": "code",
      "metadata": {
        "id": "c4BIJe8v2s9Q"
      },
      "source": [
        "spam = {'color': 'red', 'age': 42}\n",
        "\n",
        "for v in spam.values():\n",
        "    print(v)\n",
        "\n",
        "for k in spam.keys():\n",
        "    print(k)\n",
        "\n",
        "for i in spam.items():\n",
        "    print(i)"
      ],
      "execution_count": null,
      "outputs": []
    },
    {
      "cell_type": "code",
      "metadata": {
        "id": "LCiHpq5KKsQd"
      },
      "source": [
        "birthdays = {'Alice': 'Apr 1', 'Bob': 'Dec 12', 'Carol': 'Mar 4'}\n",
        "\n",
        "while True:\n",
        "    print(\"Enter a name (blank to quit)\")\n",
        "    name = input()\n",
        "    if name == '':\n",
        "        break\n",
        "\n",
        "    if name in birthdays:\n",
        "        print(birthdays[name] + ' is the birthday of ' + name)\n",
        "    else:\n",
        "        print('I do not have birthday information for ' + name)\n",
        "        print('What is his/her birthday?')\n",
        "        bday = input()\n",
        "        birthdays[name] = bday\n",
        "        print('Birthday database updated')\n",
        "\n",
        "print(birthdays)"
      ],
      "execution_count": null,
      "outputs": []
    },
    {
      "cell_type": "code",
      "metadata": {
        "id": "r17hvrLBLtBb"
      },
      "source": [
        "# LIST LIKE DICTIONARIES\n",
        "\n",
        "spam = {'color': 'red', 'age': 42}\n",
        "\n",
        "print(list(spam.keys()))\n",
        "print(list(spam.values()))\n",
        "print(list(spam.items()))"
      ],
      "execution_count": null,
      "outputs": []
    },
    {
      "cell_type": "code",
      "metadata": {
        "id": "b7FMG3yzMjfO"
      },
      "source": [
        "# MULTIPLE ASSIGNMENT\n",
        "spam = {'color': 'red', 'age': 42}\n",
        "for k, v in spam.items():\n",
        "        print('Key: ' + k + ' Value: ' + str(v))"
      ],
      "execution_count": null,
      "outputs": []
    },
    {
      "cell_type": "code",
      "metadata": {
        "id": "15sI_a50M5PM"
      },
      "source": [
        "# CHECKING IF ITEM EXISTS\n",
        "\n",
        "print('color' in spam.values())\n",
        "print('color' in spam.keys())\n"
      ],
      "execution_count": null,
      "outputs": []
    },
    {
      "cell_type": "code",
      "metadata": {
        "id": "KhtZG40xqVsF"
      },
      "source": [
        "# THE GET() METHOD\n",
        "picnicItems = {'apples':10,'sandwiches': 5}\n",
        "print(\"I am going to bring \" + str(picnicItems.get('apples',0)) + ' apples')\n",
        "print(\"I am going to bring \" + str(picnicItems.get('bananas',0)) + ' bananas')"
      ],
      "execution_count": null,
      "outputs": []
    },
    {
      "cell_type": "code",
      "metadata": {
        "id": "pC4iEkdru-gq"
      },
      "source": [
        "# The setdefault() Method\n",
        "# *** please review this more\n",
        "\n",
        "msg = \"hello world\"\n",
        "count = {}\n",
        "for char in msg:\n",
        "    count.setdefault(char,0)\n",
        "    count[char] = count[char] +1\n",
        "\n",
        "print(count)"
      ],
      "execution_count": null,
      "outputs": []
    },
    {
      "cell_type": "code",
      "metadata": {
        "id": "1a4kLnQlvQin"
      },
      "source": [
        "# The setdefault() Method\n",
        "# characterCount.py:\n",
        "\n",
        "\n",
        "message = 'It was a bright cold day in April, and the clocks were striking thirteen.'\n",
        "count = {}\n",
        "\n",
        "for character in message:\n",
        "    count.setdefault(character, 0)\n",
        "    count[character] = count[character] + 1\n",
        "\n",
        "print(count)"
      ],
      "execution_count": null,
      "outputs": []
    },
    {
      "cell_type": "code",
      "metadata": {
        "id": "pbm5EAPlv_Rw"
      },
      "source": [
        "# Pretty Printing\n",
        "\n",
        "\n",
        "import pprint\n",
        "message = 'It was a bright cold day in April, and the clocks were striking thirteen.'\n",
        "count = {}\n",
        "\n",
        "for character in message:\n",
        "    count.setdefault(character, 0)\n",
        "    count[character] = count[character] + 1\n",
        "\n",
        "pprint.pprint(count)\n",
        "# print(pprint.pformat(count))"
      ],
      "execution_count": null,
      "outputs": []
    },
    {
      "cell_type": "markdown",
      "source": [
        "### OOP"
      ],
      "metadata": {
        "id": "-oAiVxBHITvo"
      }
    },
    {
      "cell_type": "markdown",
      "source": [
        "#### Classes"
      ],
      "metadata": {
        "id": "5wfuCEPUMJhr"
      }
    },
    {
      "cell_type": "code",
      "source": [
        "# CLASSES\n",
        "\n",
        "\n",
        "class myClass():\n",
        "    def method1(self):\n",
        "        print(\"myClass method1\")\n",
        "\n",
        "    def method2(self, someString):\n",
        "        print(\"myClass method2: \" + someString)\n",
        "\n",
        "\n",
        "class anotherClass(myClass):\n",
        "    def method2(self):\n",
        "        print(\"anotherClass method2\")\n",
        "\n",
        "    def method1(self):\n",
        "        myClass.method1(self)\n",
        "        print(\"anotherClass method1\")\n",
        "\n",
        "\n",
        "def main():\n",
        "    c = myClass()\n",
        "    c.method1()\n",
        "    c.method2(\"This is a string\")\n",
        "    c2 = anotherClass()\n",
        "    c2.method1()\n",
        "\n",
        "\n",
        "if __name__ == \"__main__\":\n",
        "    main()"
      ],
      "metadata": {
        "id": "NQAfJPntIczF"
      },
      "execution_count": null,
      "outputs": []
    },
    {
      "cell_type": "markdown",
      "metadata": {
        "tags": [
          "tutorials"
        ],
        "id": "H3_TIBIkY3Sp"
      },
      "source": [
        "## DATA SCIENCE\n",
        "https://www.analyticsvidhya.com/blog/2016/01/complete-tutorial-learn-data-science-python-scratch-2/"
      ]
    },
    {
      "cell_type": "code",
      "metadata": {
        "id": "Bt0K42N-Y3Sq"
      },
      "source": [
        "2+3"
      ],
      "execution_count": null,
      "outputs": []
    },
    {
      "cell_type": "code",
      "metadata": {
        "id": "brVsBoTsY3Sx"
      },
      "source": [
        "data = {'Noel','Gail'}\n",
        "print (data)"
      ],
      "execution_count": null,
      "outputs": []
    },
    {
      "cell_type": "code",
      "metadata": {
        "tags": [
          "data"
        ],
        "id": "A6euRHfhY3S1"
      },
      "source": [
        "for d in data:\n",
        "    print (d)\n"
      ],
      "execution_count": null,
      "outputs": []
    },
    {
      "cell_type": "code",
      "metadata": {
        "id": "1JefmdPoY3S4"
      },
      "source": [
        "print (\"Hello me\")"
      ],
      "execution_count": null,
      "outputs": []
    },
    {
      "cell_type": "code",
      "metadata": {
        "tags": [
          "lists"
        ],
        "id": "VGoS1lMAY3TE"
      },
      "source": [
        "#lists\n",
        "squares_list = [1,2,4,9,16,25]\n",
        "\n",
        "print(squares_list[-1])\n",
        "print(squares_list[1])\n",
        "print(squares_list[:])\n",
        "print(squares_list[2:])\n",
        "print(squares_list[1:2])\n",
        "print(squares_list[2:5])\n",
        "\n",
        "# manipulating lists\n",
        "squares_list[0] = 1.0\n",
        "print(squares_list[:])\n",
        "# squares_list"
      ],
      "execution_count": null,
      "outputs": []
    },
    {
      "cell_type": "markdown",
      "metadata": {
        "id": "ttIxiqmnaYNM"
      },
      "source": [
        "### MATPLOTLIB"
      ]
    },
    {
      "cell_type": "markdown",
      "metadata": {
        "id": "cKFhZvGKaYNO"
      },
      "source": [
        "#### Basic Plot with Labels and Title"
      ]
    },
    {
      "cell_type": "code",
      "metadata": {
        "scrolled": true,
        "tags": [
          "Matplotlig"
        ],
        "id": "E3rh2f_2aYNQ"
      },
      "source": [
        "import matplotlib.pyplot as plt\n",
        "\n",
        "year = [1990,2000,2010] #x axis\n",
        "\n",
        "pop = [100,200,300] #y axis\n",
        "\n",
        "plt.plot(year,pop)\n",
        "\n",
        "# add title\n",
        "plt.title('Population')\n",
        "\n",
        "# add labels\n",
        "plt.xlabel('Year')\n",
        "plt.ylabel('Population')\n",
        "\n",
        "plt.show()\n"
      ],
      "execution_count": null,
      "outputs": []
    },
    {
      "cell_type": "markdown",
      "metadata": {
        "id": "SiXcjGcwaYNV"
      },
      "source": [
        "#### Styling"
      ]
    },
    {
      "cell_type": "code",
      "metadata": {
        "id": "poI5AiDnaYNW"
      },
      "source": [
        "import matplotlib.pyplot as plt\n",
        "import matplotlib.style as style\n",
        "\n",
        "style.use ('ggplot')\n",
        "\n",
        "x = [5,8,10]\n",
        "y = [12,16,6]\n",
        "\n",
        "x2 = [6,9,11]\n",
        "y2 = [6,15,7]\n",
        "\n",
        "plt.plot(x,y,'g',label='LineOne',linewidth=5) # LineOne with green color and width of 5\n",
        "plt.plot(x2,y2,'c',label='LineOne',linewidth=5) # LineOne with green color and width of 5\n",
        "\n",
        "plt.title('Info')\n",
        "\n",
        "plt.xlabel('x axis')\n",
        "plt.ylabel('y axis')\n",
        "\n",
        "plt.grid(True,color='K')\n",
        "plt.legend()\n",
        "\n",
        "plt.show()"
      ],
      "execution_count": null,
      "outputs": []
    },
    {
      "cell_type": "markdown",
      "metadata": {
        "id": "LvzU2BInaYNZ"
      },
      "source": [
        "#### Bar Graphs"
      ]
    },
    {
      "cell_type": "code",
      "metadata": {
        "id": "gwrNKNXpaYNb"
      },
      "source": [
        "from matplotlib import pyplot as plt\n",
        "\n",
        "plt.bar([1,3,5,7,9],[5,2,7,8,2],label=\"Example One\",color='c')\n",
        "plt.bar([2,4,6,8,10],[8,6,2,5,6],label=\"Example Two\",color='g')\n",
        "\n",
        "plt.legend()\n",
        "\n",
        "plt.xlabel('bar number')\n",
        "plt.ylabel('bar height')\n",
        "\n",
        "plt.title('Info')\n",
        "\n",
        "plt.show()\n",
        "\n",
        "# *** review more of bar graphs"
      ],
      "execution_count": null,
      "outputs": []
    },
    {
      "cell_type": "markdown",
      "metadata": {
        "id": "B4DkEfZXaYNg"
      },
      "source": [
        "#### Histogram"
      ]
    },
    {
      "cell_type": "code",
      "metadata": {
        "id": "CYG2MV3QaYNg"
      },
      "source": [
        "# Bar graph is for categorical vars\n",
        "# Histogram is for quantitative vars\n",
        "\n",
        "population_ages = [22,55,62,45,21,22]\n",
        "bins = [0,10,20,30,40,50]\n",
        "\n",
        "plt.hist(population_ages,bins,histtype='bar',rwidth=0.8)\n",
        "\n",
        "plt.xlabel('X axis')\n",
        "plt.ylabel('Y axis')\n",
        "\n",
        "plt.title('Histogram')\n",
        "\n",
        "plt.legend()\n",
        "\n",
        "plt.show()"
      ],
      "execution_count": null,
      "outputs": []
    },
    {
      "cell_type": "code",
      "metadata": {
        "id": "Mda-DPBaaYNl"
      },
      "source": [
        "## REVIEW OTHER GRAPHS , WORKING WITH MULTIPLE PLOTS"
      ],
      "execution_count": null,
      "outputs": []
    },
    {
      "cell_type": "markdown",
      "metadata": {
        "id": "yJ57i054ab6m"
      },
      "source": [
        "### NUMPY\n",
        "\n",
        "Source - https://youtu.be/8JfDAm9y_7s"
      ]
    },
    {
      "cell_type": "markdown",
      "metadata": {
        "id": "KHQpDhq_ab6o"
      },
      "source": [
        "#### The BASICS"
      ]
    },
    {
      "cell_type": "code",
      "metadata": {
        "id": "UfU6eEPYab6p"
      },
      "source": [
        "import numpy as np\n",
        "import time\n",
        "import sys\n",
        "\n",
        "SIZE = 3000000\n",
        "\n",
        "L1 = range(SIZE)\n",
        "L2 = range(SIZE)\n",
        "\n",
        "A1 = np.arange(SIZE)\n",
        "A2 = np.arange(SIZE)\n",
        "\n",
        "start = time.time()\n",
        "\n",
        "result = [(x,y) for x,y in zip(L1,L2)]\n",
        "\n",
        "print((time.time()-start)*1000)\n",
        "\n",
        "start = time.time()\n",
        "\n",
        "result = A1 + A2\n",
        "\n",
        "print((time.time()-start)*1000)"
      ],
      "execution_count": null,
      "outputs": []
    },
    {
      "cell_type": "markdown",
      "metadata": {
        "id": "U28nE6vtab6u"
      },
      "source": [
        "#### TESTING NUMPY SPEED"
      ]
    },
    {
      "cell_type": "code",
      "metadata": {
        "id": "7u3jr5BYab6w"
      },
      "source": [
        "import numpy as np\n",
        "import time\n",
        "import sys\n",
        "\n",
        "SIZE = 1000000\n",
        "\n",
        "L1 = range(SIZE)\n",
        "L2 = range(SIZE)\n",
        "\n",
        "A1 = np.arange(SIZE)\n",
        "A2 = np.arange(SIZE)\n",
        "\n",
        "start = time.time()\n",
        "\n",
        "result = [(x,y) for x,y in zip(L1,L2)]\n",
        "\n",
        "print((time.time()-start)*1000)\n",
        "\n",
        "start = time.time()\n",
        "\n",
        "result = A1 + A2\n",
        "\n",
        "print((time.time()-start)*1000)"
      ],
      "execution_count": null,
      "outputs": []
    },
    {
      "cell_type": "markdown",
      "metadata": {
        "id": "46EzLLWCab6z"
      },
      "source": [
        "#### NUMPY OPERATIONS"
      ]
    },
    {
      "cell_type": "code",
      "metadata": {
        "id": "BhzxU0z3ab61"
      },
      "source": [
        "import numpy as np\n",
        "\n",
        "a = np.array([(1,2,3),(4,5,6)])\n",
        "\n",
        "print(a.ndim)\n",
        "\n",
        "print(a.itemsize)\n",
        "\n",
        "print(a.dtype)\n",
        "\n",
        "print(a.size)\n",
        "\n",
        "print(a.shape)"
      ],
      "execution_count": null,
      "outputs": []
    },
    {
      "cell_type": "markdown",
      "metadata": {
        "id": "iX0OJ_mlab66"
      },
      "source": [
        "#### NUMPY RESHAPE"
      ]
    },
    {
      "cell_type": "code",
      "metadata": {
        "id": "AYjG40Omab66"
      },
      "source": [
        "import numpy as np\n",
        "\n",
        "a = np.array([(1,2,3),(4,5,6)])\n",
        "\n",
        "print(a)\n",
        "\n",
        "a = a.reshape(3,2)\n",
        "\n",
        "print(a)"
      ],
      "execution_count": null,
      "outputs": []
    },
    {
      "cell_type": "markdown",
      "metadata": {
        "id": "tV4Bi5JRab6-"
      },
      "source": [
        "#### SLICING"
      ]
    },
    {
      "cell_type": "code",
      "metadata": {
        "id": "JCX75-5Jab6_"
      },
      "source": [
        "import numpy as np\n",
        "\n",
        "a = np.array([(1,2,3),(4,5,6),(7,8,9)])\n",
        "\n",
        "print(a)\n",
        "\n",
        "print(a[0,1])\n",
        "\n",
        "print (a[0:,2])\n",
        "\n",
        "print (a[0:2,2])\n"
      ],
      "execution_count": null,
      "outputs": []
    },
    {
      "cell_type": "markdown",
      "metadata": {
        "id": "qCVy6hLDab7B"
      },
      "source": [
        "#### LINSPACE"
      ]
    },
    {
      "cell_type": "code",
      "metadata": {
        "id": "WZAHLS6Oab7C"
      },
      "source": [
        "import numpy as np\n",
        "\n",
        "# 5 values between 1 to 3\n",
        "a = np.linspace(1,3,5)\n",
        "\n",
        "print(a)\n",
        "\n",
        "# 10 values between 1 to 3\n",
        "a = np.linspace(1,3,10)\n",
        "\n",
        "print(a)"
      ],
      "execution_count": null,
      "outputs": []
    },
    {
      "cell_type": "markdown",
      "metadata": {
        "id": "l_gbECexab7G"
      },
      "source": [
        "#### MIX, MAX, SUM"
      ]
    },
    {
      "cell_type": "code",
      "metadata": {
        "id": "vIjm8Ph9r1rR"
      },
      "source": [
        "import numpy as np\n",
        "\n",
        "a = np.array([1,2,3])\n",
        "\n",
        "print(a.min())\n",
        "print(a.max())\n",
        "print(a.sum())\n",
        "print(a.mean()) #average"
      ],
      "execution_count": null,
      "outputs": []
    },
    {
      "cell_type": "markdown",
      "metadata": {
        "id": "SFjyCv8Oab7J"
      },
      "source": [
        "#### AXIS"
      ]
    },
    {
      "cell_type": "code",
      "metadata": {
        "id": "EMuMmnz2ab7K"
      },
      "source": [
        "import numpy as np\n",
        "\n",
        "a = np.array([(1,2,3),(4,5,6)])\n",
        "\n",
        "print(a.sum(axis = 0)) #sum of columns\n",
        "print(a.sum(axis = 1)) #sum of rows"
      ],
      "execution_count": null,
      "outputs": []
    },
    {
      "cell_type": "markdown",
      "metadata": {
        "id": "CYXL7ZL2ab7N"
      },
      "source": [
        "#### SQUARE ROOT , STANDARD DEVIATION"
      ]
    },
    {
      "cell_type": "code",
      "metadata": {
        "id": "cOOU7ch_ab7O"
      },
      "source": [
        "import numpy as np\n",
        "\n",
        "a = np.array([(1,2,3),(4,5,6)])\n",
        "b = np.array([(1,2,3),(4,5,6)])\n",
        "\n",
        "# print squareroot\n",
        "print (np.sqrt(a))\n",
        "\n",
        "# standard deviation\n",
        "print (np.std(a))\n",
        "\n",
        "# math operations\n",
        "print (a+b)\n",
        "print (a-b)\n",
        "print (a*b)\n",
        "print (a/b)\n",
        "\n",
        "print( np.vstack((a,b))) #vertical stacking\n",
        "print( np.hstack((a,b))) #horizontal stacking\n",
        "# please review more on vstack and hstack\n",
        "\n",
        "print(a.ravel()) #combine into a single column"
      ],
      "execution_count": null,
      "outputs": []
    },
    {
      "cell_type": "markdown",
      "metadata": {
        "id": "9fsltZIGab7T"
      },
      "source": [
        "#### SINE AND COSINE , MATPLOTLIB"
      ]
    },
    {
      "cell_type": "code",
      "metadata": {
        "id": "CiKok_1Cab7T"
      },
      "source": [
        "import numpy as np\n",
        "import matplotlib.pyplot as plt\n",
        "\n",
        "x = np.arange(0,3*np.pi,0.1)\n",
        "\n",
        "y = np.sin(x)\n",
        "\n",
        "plt.plot(x,y)\n",
        "\n",
        "plt.show()\n",
        "\n",
        "y = np.tan(x)\n",
        "\n",
        "plt.plot(x,y)\n",
        "\n",
        "plt.show()"
      ],
      "execution_count": null,
      "outputs": []
    },
    {
      "cell_type": "markdown",
      "metadata": {
        "id": "Tk18qOqHab7W"
      },
      "source": [
        "#### EXPONENTIAL AND LOGARITMIC"
      ]
    },
    {
      "cell_type": "code",
      "metadata": {
        "id": "g0RrLGWWab7W"
      },
      "source": [
        "import numpy as np\n",
        "ar = np.array([1,2,3])\n",
        "\n",
        "\n",
        "print (np.exp(ar)) #exponential\n",
        "\n",
        "print (np.log(ar)) #natural log\n",
        "\n",
        "print (np.log10(ar)) #base 10\n",
        "\n"
      ],
      "execution_count": null,
      "outputs": []
    },
    {
      "cell_type": "markdown",
      "metadata": {
        "id": "lzbTZfB7loEb"
      },
      "source": [
        "#### PANDAS\n"
      ]
    },
    {
      "cell_type": "code",
      "metadata": {
        "id": "3hOB-Binx02D"
      },
      "source": [
        "# https://stackoverflow.com/questions/47744131/colaboratory-can-i-access-to-my-google-drive-folder-and-file\n",
        "\n",
        "# Load the Drive helper and mount\n",
        "from google.colab import drive\n",
        "drive.mount('/content/drive/')\n",
        "!ls"
      ],
      "execution_count": null,
      "outputs": []
    },
    {
      "cell_type": "code",
      "metadata": {
        "id": "Wc3MCCSCyXrK"
      },
      "source": [
        "!ls drive/My\\ Drive/Data"
      ],
      "execution_count": null,
      "outputs": []
    },
    {
      "cell_type": "markdown",
      "source": [
        "## PROJECTS"
      ],
      "metadata": {
        "id": "IFkwQHOdMpjh"
      }
    },
    {
      "cell_type": "markdown",
      "source": [
        "### SIMPLE SCRAPING"
      ],
      "metadata": {
        "id": "Ng4TAqFYkLBX"
      }
    },
    {
      "cell_type": "code",
      "execution_count": null,
      "metadata": {
        "collapsed": true,
        "id": "Xs921EiakH2r"
      },
      "outputs": [],
      "source": [
        "# LINKS\n",
        "# https://www.geeksforgeeks.org/beautifulsoup-scraping-list-from-html//\n",
        "\n",
        "!pip install requests\n",
        "!pip install pandas\n",
        "!pip install beautifulsoup4\n",
        "\n",
        "# VERSION 1\n",
        "\n",
        "# Import Required Modules\n",
        "from bs4 import BeautifulSoup\n",
        "import requests\n",
        "\n",
        "# HTML Code\n",
        "html_content = \"\"\"\n",
        "<ul>\n",
        "<li>Coffee</li>\n",
        "<li>Tea</li>\n",
        "<li>Milk</li>\n",
        "</ul>\n",
        "\"\"\"\n",
        "\n",
        "# Parse the html content\n",
        "soup = BeautifulSoup(html_content, \"lxml\")\n",
        "\n",
        "# Find all li tag\n",
        "datas = soup.find_all(\"li\")\n",
        "\n",
        "# Iterate through all li tags\n",
        "for data in datas:\n",
        "\t# Get text from each tag\n",
        "\tprint(data.text)\n",
        "\n",
        "print(f\"Total {len(datas)} li tag found\")\n",
        "\n",
        "\n",
        "# VERSION 2\n",
        "\n",
        "# Import Required Modules\n",
        "from bs4 import BeautifulSoup\n",
        "import pandas as pd\n",
        "import requests\n",
        "\n",
        "# HTML Code\n",
        "html_content = \"\"\"\n",
        "<ul>\n",
        "<li>Coffee</li>\n",
        "<li>Tea</li>\n",
        "<li>Milk</li>\n",
        "</ul>\n",
        "\"\"\"\n",
        "\n",
        "# Parse the html content\n",
        "soup = BeautifulSoup(html_content)\n",
        "\n",
        "# Find all li tag\n",
        "datas = soup.find_all(\"li\")\n",
        "\n",
        "import pandas as pd\n",
        "columns=([\"Beverage\"])\n",
        "df=pd.DataFrame(data=datas, columns=columns)\n",
        "df\n",
        "\n"
      ]
    }
  ]
}